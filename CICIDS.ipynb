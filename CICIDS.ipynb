{
  "cells": [
    {
      "cell_type": "markdown",
      "metadata": {
        "id": "view-in-github",
        "colab_type": "text"
      },
      "source": [
        "<a href=\"https://colab.research.google.com/github/soumyapachal-SP/Intrusion-Detection-System/blob/main/CICIDS.ipynb\" target=\"_parent\"><img src=\"https://colab.research.google.com/assets/colab-badge.svg\" alt=\"Open In Colab\"/></a>"
      ]
    },
    {
      "cell_type": "markdown",
      "source": [
        "**Mounting to Drive for fetching the datasets**"
      ],
      "metadata": {
        "id": "EPg8ARHrv_qj"
      }
    },
    {
      "cell_type": "code",
      "execution_count": null,
      "metadata": {
        "colab": {
          "base_uri": "https://localhost:8080/"
        },
        "id": "ueoO8S2enCgk",
        "outputId": "65212f32-88a4-4871-90e6-f76f6e621994"
      },
      "outputs": [
        {
          "output_type": "stream",
          "name": "stdout",
          "text": [
            "Mounted at /content/drive\n"
          ]
        }
      ],
      "source": [
        "# prompt: mount to drive\n",
        "\n",
        "from google.colab import drive\n",
        "drive.mount('/content/drive')"
      ]
    },
    {
      "cell_type": "markdown",
      "source": [
        "**Convering zip files to csv and merging all the datasets**"
      ],
      "metadata": {
        "id": "vBoiuqQowLIc"
      }
    },
    {
      "cell_type": "code",
      "execution_count": null,
      "metadata": {
        "colab": {
          "base_uri": "https://localhost:8080/"
        },
        "id": "dq_IGi5IoGtN",
        "outputId": "fff706df-d3b7-42b1-c0c5-db50188d1f20"
      },
      "outputs": [
        {
          "output_type": "stream",
          "name": "stdout",
          "text": [
            "Merged dataset saved at: /content/CIC_IDS2017_Merged.csv\n",
            "   Destination Port  Flow Duration  Total Fwd Packets  Total Backward Packets  \\\n",
            "0             54865              3                  2                       0   \n",
            "1             55054            109                  1                       1   \n",
            "2             55055             52                  1                       1   \n",
            "3             46236             34                  1                       1   \n",
            "4             54863              3                  2                       0   \n",
            "\n",
            "   Total Length of Fwd Packets  Total Length of Bwd Packets  \\\n",
            "0                           12                            0   \n",
            "1                            6                            6   \n",
            "2                            6                            6   \n",
            "3                            6                            6   \n",
            "4                           12                            0   \n",
            "\n",
            "   Fwd Packet Length Max  Fwd Packet Length Min  Fwd Packet Length Mean  \\\n",
            "0                      6                      6                     6.0   \n",
            "1                      6                      6                     6.0   \n",
            "2                      6                      6                     6.0   \n",
            "3                      6                      6                     6.0   \n",
            "4                      6                      6                     6.0   \n",
            "\n",
            "   Fwd Packet Length Std  ...  min_seg_size_forward  Active Mean  Active Std  \\\n",
            "0                    0.0  ...                    20          0.0         0.0   \n",
            "1                    0.0  ...                    20          0.0         0.0   \n",
            "2                    0.0  ...                    20          0.0         0.0   \n",
            "3                    0.0  ...                    20          0.0         0.0   \n",
            "4                    0.0  ...                    20          0.0         0.0   \n",
            "\n",
            "   Active Max  Active Min  Idle Mean  Idle Std  Idle Max  Idle Min   Label  \n",
            "0           0           0        0.0       0.0         0         0  BENIGN  \n",
            "1           0           0        0.0       0.0         0         0  BENIGN  \n",
            "2           0           0        0.0       0.0         0         0  BENIGN  \n",
            "3           0           0        0.0       0.0         0         0  BENIGN  \n",
            "4           0           0        0.0       0.0         0         0  BENIGN  \n",
            "\n",
            "[5 rows x 79 columns]\n"
          ]
        }
      ],
      "source": [
        "import pandas as pd\n",
        "import zipfile\n",
        "import os\n",
        "\n",
        "# Define the directory where files are stored\n",
        "data_dir = \"/content/\"\n",
        "extract_path = os.path.join(data_dir, \"extracted\")\n",
        "\n",
        "# List of uploaded zip files\n",
        "zip_files = [\n",
        "    \"/content/drive/MyDrive/cicids1/Monday-WorkingHours.pcap_ISCX.csv.zip\",\n",
        "    \"/content/drive/MyDrive/cicids1/Tuesday-WorkingHours.pcap_ISCX.csv.zip\",\n",
        "    \"/content/drive/MyDrive/cicids1/Wednesday-workingHours.pcap_ISCX.csv.zip\",\n",
        "    \"/content/drive/MyDrive/cicids1/Thursday-WorkingHours-Morning-WebAttacks.pcap_ISCX.csv.zip\",\n",
        "    \"/content/drive/MyDrive/cicids1/Thursday-WorkingHours-Afternoon-Infilteration.pcap_ISCX.csv.zip\",\n",
        "    \"/content/drive/MyDrive/cicids1/Friday-WorkingHours-Morning.pcap_ISCX.csv.zip\",\n",
        "    \"/content/drive/MyDrive/cicids1/Friday-WorkingHours-Afternoon-PortScan.pcap_ISCX.csv.zip\",\n",
        "    \"/content/drive/MyDrive/cicids1/Friday-WorkingHours-Afternoon-DDos.pcap_ISCX.csv.zip\"\n",
        "]\n",
        "\n",
        "os.makedirs(extract_path, exist_ok=True)\n",
        "\n",
        "# Extract all zip files\n",
        "for zip_file in zip_files:\n",
        "    zip_path = os.path.join(data_dir, zip_file)\n",
        "    with zipfile.ZipFile(zip_path, 'r') as zip_ref:\n",
        "        zip_ref.extractall(extract_path)\n",
        "\n",
        "# List all extracted CSV files\n",
        "csv_files = [f for f in os.listdir(extract_path) if f.endswith(\".csv\")]\n",
        "\n",
        "# Load and merge all CSV files\n",
        "df_list = []\n",
        "for csv_file in csv_files:\n",
        "    file_path = os.path.join(extract_path, csv_file)\n",
        "    df = pd.read_csv(file_path, low_memory=False)  # Avoid dtype warning\n",
        "    df_list.append(df)\n",
        "\n",
        "# Merge all dataframes\n",
        "df_merged = pd.concat(df_list, ignore_index=True)\n",
        "\n",
        "# Clean column names\n",
        "df_merged.columns = df_merged.columns.str.strip()\n",
        "\n",
        "# Drop missing values\n",
        "df_merged.dropna(inplace=True)\n",
        "\n",
        "# Save merged dataset\n",
        "merged_csv_path = os.path.join(data_dir, \"CIC_IDS2017_Merged.csv\")\n",
        "df_merged.to_csv(merged_csv_path, index=False)\n",
        "\n",
        "print(f\"Merged dataset saved at: {merged_csv_path}\")\n",
        "print(df_merged.head())  # Display first few rows"
      ]
    },
    {
      "cell_type": "code",
      "execution_count": null,
      "metadata": {
        "id": "ziaWKt1ovTYY"
      },
      "outputs": [],
      "source": [
        "df = pd.DataFrame(df_merged)"
      ]
    },
    {
      "cell_type": "markdown",
      "source": [
        "**Ckecking the columns neames**"
      ],
      "metadata": {
        "id": "RQfnOHuBwZPU"
      }
    },
    {
      "cell_type": "code",
      "execution_count": null,
      "metadata": {
        "colab": {
          "base_uri": "https://localhost:8080/"
        },
        "id": "OXPuBQ_hvbJ1",
        "outputId": "7e208351-19c1-4219-ca0f-0ed8026d25ea"
      },
      "outputs": [
        {
          "output_type": "stream",
          "name": "stdout",
          "text": [
            "<class 'pandas.core.frame.DataFrame'>\n",
            "Index: 2829385 entries, 0 to 2830742\n",
            "Data columns (total 79 columns):\n",
            " #   Column                       Dtype  \n",
            "---  ------                       -----  \n",
            " 0   Destination Port             int64  \n",
            " 1   Flow Duration                int64  \n",
            " 2   Total Fwd Packets            int64  \n",
            " 3   Total Backward Packets       int64  \n",
            " 4   Total Length of Fwd Packets  int64  \n",
            " 5   Total Length of Bwd Packets  int64  \n",
            " 6   Fwd Packet Length Max        int64  \n",
            " 7   Fwd Packet Length Min        int64  \n",
            " 8   Fwd Packet Length Mean       float64\n",
            " 9   Fwd Packet Length Std        float64\n",
            " 10  Bwd Packet Length Max        int64  \n",
            " 11  Bwd Packet Length Min        int64  \n",
            " 12  Bwd Packet Length Mean       float64\n",
            " 13  Bwd Packet Length Std        float64\n",
            " 14  Flow Bytes/s                 float64\n",
            " 15  Flow Packets/s               float64\n",
            " 16  Flow IAT Mean                float64\n",
            " 17  Flow IAT Std                 float64\n",
            " 18  Flow IAT Max                 int64  \n",
            " 19  Flow IAT Min                 int64  \n",
            " 20  Fwd IAT Total                int64  \n",
            " 21  Fwd IAT Mean                 float64\n",
            " 22  Fwd IAT Std                  float64\n",
            " 23  Fwd IAT Max                  int64  \n",
            " 24  Fwd IAT Min                  int64  \n",
            " 25  Bwd IAT Total                int64  \n",
            " 26  Bwd IAT Mean                 float64\n",
            " 27  Bwd IAT Std                  float64\n",
            " 28  Bwd IAT Max                  int64  \n",
            " 29  Bwd IAT Min                  int64  \n",
            " 30  Fwd PSH Flags                int64  \n",
            " 31  Bwd PSH Flags                int64  \n",
            " 32  Fwd URG Flags                int64  \n",
            " 33  Bwd URG Flags                int64  \n",
            " 34  Fwd Header Length            int64  \n",
            " 35  Bwd Header Length            int64  \n",
            " 36  Fwd Packets/s                float64\n",
            " 37  Bwd Packets/s                float64\n",
            " 38  Min Packet Length            int64  \n",
            " 39  Max Packet Length            int64  \n",
            " 40  Packet Length Mean           float64\n",
            " 41  Packet Length Std            float64\n",
            " 42  Packet Length Variance       float64\n",
            " 43  FIN Flag Count               int64  \n",
            " 44  SYN Flag Count               int64  \n",
            " 45  RST Flag Count               int64  \n",
            " 46  PSH Flag Count               int64  \n",
            " 47  ACK Flag Count               int64  \n",
            " 48  URG Flag Count               int64  \n",
            " 49  CWE Flag Count               int64  \n",
            " 50  ECE Flag Count               int64  \n",
            " 51  Down/Up Ratio                int64  \n",
            " 52  Average Packet Size          float64\n",
            " 53  Avg Fwd Segment Size         float64\n",
            " 54  Avg Bwd Segment Size         float64\n",
            " 55  Fwd Header Length.1          int64  \n",
            " 56  Fwd Avg Bytes/Bulk           int64  \n",
            " 57  Fwd Avg Packets/Bulk         int64  \n",
            " 58  Fwd Avg Bulk Rate            int64  \n",
            " 59  Bwd Avg Bytes/Bulk           int64  \n",
            " 60  Bwd Avg Packets/Bulk         int64  \n",
            " 61  Bwd Avg Bulk Rate            int64  \n",
            " 62  Subflow Fwd Packets          int64  \n",
            " 63  Subflow Fwd Bytes            int64  \n",
            " 64  Subflow Bwd Packets          int64  \n",
            " 65  Subflow Bwd Bytes            int64  \n",
            " 66  Init_Win_bytes_forward       int64  \n",
            " 67  Init_Win_bytes_backward      int64  \n",
            " 68  act_data_pkt_fwd             int64  \n",
            " 69  min_seg_size_forward         int64  \n",
            " 70  Active Mean                  float64\n",
            " 71  Active Std                   float64\n",
            " 72  Active Max                   int64  \n",
            " 73  Active Min                   int64  \n",
            " 74  Idle Mean                    float64\n",
            " 75  Idle Std                     float64\n",
            " 76  Idle Max                     int64  \n",
            " 77  Idle Min                     int64  \n",
            " 78  Label                        object \n",
            "dtypes: float64(24), int64(54), object(1)\n",
            "memory usage: 1.7+ GB\n"
          ]
        }
      ],
      "source": [
        "df.columns = df.columns.str.strip()\n",
        "df.info()"
      ]
    },
    {
      "cell_type": "markdown",
      "source": [
        "**Calculating the infinite, NaN and duplicate values**"
      ],
      "metadata": {
        "id": "ybWLFsUcwiNR"
      }
    },
    {
      "cell_type": "code",
      "execution_count": null,
      "metadata": {
        "colab": {
          "base_uri": "https://localhost:8080/"
        },
        "id": "ybsjDvRswEUZ",
        "outputId": "8f42bbbd-6d22-494c-b8e6-57697596cb82"
      },
      "outputs": [
        {
          "output_type": "stream",
          "name": "stdout",
          "text": [
            "Columns with infinite values:\n",
            " Flow Bytes/s      1509\n",
            "Flow Packets/s    1509\n",
            "dtype: int64\n",
            "\n",
            "Columns with NaN values:\n",
            " Series([], dtype: int64)\n",
            "\n",
            "Columns with NaN or infinite values:\n",
            " Flow Bytes/s      1509\n",
            "Flow Packets/s    1509\n",
            "dtype: int64\n",
            "\n",
            "Number of duplicate rows: 307376\n"
          ]
        }
      ],
      "source": [
        "import os\n",
        "import time\n",
        "import numpy as np\n",
        "import pandas as pd\n",
        "import matplotlib.pyplot as plt\n",
        "import sklearn\n",
        "is_inf = df.isin([np.inf, -np.inf])\n",
        "\n",
        "inf_counts = is_inf.sum()\n",
        "\n",
        "# Filter to show only columns with infinite values\n",
        "columns_with_inf = inf_counts[inf_counts > 0]\n",
        "print(\"Columns with infinite values:\\n\",columns_with_inf)\n",
        "\n",
        "nan_counts = df.isnull().sum()\n",
        "\n",
        "# Filter to show only columns with NaN values\n",
        "columns_with_nan = nan_counts[nan_counts > 0]\n",
        "print(\"\\nColumns with NaN values:\\n\", columns_with_nan)\n",
        "\n",
        "combined_counts = nan_counts + inf_counts\n",
        "\n",
        "# Filter to show only columns with any NaN or inf values\n",
        "columns_with_nan_or_inf = combined_counts[combined_counts > 0]\n",
        "print(\"\\nColumns with NaN or infinite values:\\n\", columns_with_nan_or_inf)\n",
        "\n",
        "duplicate_rows_count = df.duplicated().sum()\n",
        "print(\"\\nNumber of duplicate rows:\", duplicate_rows_count)"
      ]
    },
    {
      "cell_type": "markdown",
      "source": [
        "**Dropping the  infinite, NaN and duplicate values**"
      ],
      "metadata": {
        "id": "xzyudtxtwv-j"
      }
    },
    {
      "cell_type": "code",
      "execution_count": null,
      "metadata": {
        "id": "PFUA9mRZwQrH"
      },
      "outputs": [],
      "source": [
        "df.replace([np.inf, -np.inf], np.nan, inplace=True)\n",
        "df.dropna(inplace=True)\n",
        "df.drop_duplicates(inplace=True)"
      ]
    },
    {
      "cell_type": "markdown",
      "source": [
        "**Dropping the target column**"
      ],
      "metadata": {
        "id": "SYTwELQ4w5vi"
      }
    },
    {
      "cell_type": "code",
      "execution_count": null,
      "metadata": {
        "id": "uGyCynspwVlI"
      },
      "outputs": [],
      "source": [
        "X = df.drop(columns=['Label'])\n",
        "y = df['Label']"
      ]
    },
    {
      "cell_type": "code",
      "execution_count": null,
      "metadata": {
        "id": "ClI47tRawr7j"
      },
      "outputs": [],
      "source": [
        "rp = {\n",
        "    \"base\": \"#191724\",\n",
        "    \"surface\": \"#1f1d2e\",\n",
        "    \"overlay\": \"#26233a\",\n",
        "    \"muted\": \"#6e6a86\",\n",
        "    \"subtle\": \"#908caa\",\n",
        "    \"text\": \"#e0def4\",\n",
        "    \"love\": \"#eb6f92\",\n",
        "    \"gold\": \"#f6c177\",\n",
        "    \"rose\": \"#ebbcba\",\n",
        "    \"pine\": \"#31748f\",\n",
        "    \"foam\": \"#9ccfd8\",\n",
        "    \"iris\": \"#c4a7e7\",\n",
        "    \"highlightLow\": \"#21202e\",\n",
        "    \"highlightMed\": \"#403d52\",\n",
        "    \"highlightHigh\": \"#524f67\",\n",
        "}"
      ]
    },
    {
      "cell_type": "markdown",
      "source": [
        "**Plotting the network activity distribution**"
      ],
      "metadata": {
        "id": "4wcltFgXxAcs"
      }
    },
    {
      "cell_type": "code",
      "execution_count": null,
      "metadata": {
        "colab": {
          "base_uri": "https://localhost:8080/",
          "height": 691
        },
        "id": "CWXykPePwaCh",
        "outputId": "3a36c66c-650b-43b6-ce97-9d36e75de5c9"
      },
      "outputs": [
        {
          "output_type": "display_data",
          "data": {
            "text/plain": [
              "<Figure size 1200x800 with 1 Axes>"
            ],
            "image/png": "[encoded data removed]"
          },
          "metadata": {}
        }
      ],
      "source": [
        "df_label_distribution = df['Label'].value_counts()\n",
        "\n",
        "# Prepare data for plotting\n",
        "x_coords = df_label_distribution.index\n",
        "y_coords = df_label_distribution.values\n",
        "\n",
        "# Create the plot\n",
        "fig, ax = plt.subplots(figsize=(12, 8))\n",
        "\n",
        "# Plot the distribution\n",
        "ax.barh(\n",
        "    x_coords,\n",
        "    y_coords,\n",
        "    color=rp[\"iris\"],      # Use Rose Pine iris color\n",
        "    edgecolor=rp[\"base\"]   # Use Rose Pine base color for edges\n",
        ")\n",
        "\n",
        "# Add text at the end of each bar\n",
        "for i, value in enumerate(y_coords):\n",
        "    ax.text(\n",
        "        value,\n",
        "        i,\n",
        "        f\" {value:,}\",\n",
        "        va=\"center\",\n",
        "        fontsize=10,\n",
        "        color=rp[\"base\"]\n",
        "    )\n",
        "\n",
        "# Add chart details\n",
        "ax.set_title(\n",
        "    \"Distribution of Network Activity in Dataset\",\n",
        "    fontsize=16,\n",
        "    color=rp[\"base\"]\n",
        ")\n",
        "ax.set_xlabel(\"Number of Instances\", fontsize=12, color=rp[\"base\"])\n",
        "ax.set_ylabel(\"Network Activity Label\", fontsize=12, color=rp[\"base\"])\n",
        "\n",
        "# Adjust x-tick limits and format labels\n",
        "max_y = max(y_coords)\n",
        "ax.set_xticks(range(0, max_y + 50_000, 250_000))\n",
        "ax.set_xticklabels([f\"{x:,}\" for x in range(0, max_y + 50_000, 250_000)], fontsize=10, color=rp[\"muted\"])\n",
        "\n",
        "# Layout and display\n",
        "plt.tight_layout()\n",
        "plt.show()"
      ]
    },
    {
      "cell_type": "code",
      "execution_count": null,
      "metadata": {
        "colab": {
          "base_uri": "https://localhost:8080/"
        },
        "id": "norJtd26CjCf",
        "outputId": "b999a468-944d-4624-9815-4fa133fdea8f"
      },
      "outputs": [
        {
          "output_type": "stream",
          "name": "stdout",
          "text": [
            "['BENIGN' 'DOS' 'WEB_ATTACK' 'RECONNAISSANCE' 'BRUTE_FORCE' 'BOTNET']\n"
          ]
        }
      ],
      "source": [
        "category_mapping = {\n",
        "    'BENIGN': 'BENIGN',\n",
        "    'Bot': 'BOTNET',\n",
        "    'DDoS': 'DOS',\n",
        "    'DoS GoldenEye': 'DOS',\n",
        "    'DoS Hulk': 'DOS',\n",
        "    'DoS Slowhttptest': 'DOS',\n",
        "    'DoS slowloris': 'DOS',\n",
        "    'FTP-Patator': 'BRUTE_FORCE',\n",
        "    'SSH-Patator': 'BRUTE_FORCE',\n",
        "    'Heartbleed': 'WEB_ATTACK',\n",
        "    'Infiltration': 'WEB_ATTACK',\n",
        "    'PortScan': 'RECONNAISSANCE',\n",
        "    'Web Attack � Brute Force': 'WEB_ATTACK',\n",
        "    'Web Attack � Sql Injection': 'WEB_ATTACK',\n",
        "    'Web Attack � XSS': 'WEB_ATTACK'\n",
        "}\n",
        "y = y.map(category_mapping)\n",
        "\n",
        "# experimental binary mapping see Version 33 for this\n",
        "#malice_mapping = {\n",
        "#    'BENIGN': 'BENIGN',\n",
        "#    'BOTNET': 'MALICIOUS',\n",
        "#    'DOS': 'MALICIOUS',\n",
        "#    'BRUTE_FORCE': 'MALICIOUS',\n",
        "#    'WEB_ATTACK': 'MALICIOUS',\n",
        "#    'RECONNAISSANCE': 'MALICIOUS'\n",
        "#}\n",
        "\n",
        "#y = y.map(malice_mapping)\n",
        "\n",
        "print(y.unique())"
      ]
    },
    {
      "cell_type": "markdown",
      "source": [
        "**Finally Training the model**"
      ],
      "metadata": {
        "id": "hge3iPj1xNqz"
      }
    },
    {
      "cell_type": "code",
      "source": [
        "import numpy as np\n",
        "import pandas as pd\n",
        "import time\n",
        "from collections import Counter\n",
        "from sklearn.model_selection import train_test_split\n",
        "from sklearn.ensemble import RandomForestClassifier\n",
        "from sklearn.metrics import classification_report, ConfusionMatrixDisplay\n",
        "from xgboost import XGBClassifier\n",
        "from imblearn.under_sampling import RandomUnderSampler\n",
        "from imblearn.over_sampling import RandomOverSampler\n",
        "from sklearn.preprocessing import LabelEncoder\n",
        "from sklearn.experimental import enable_halving_search_cv\n",
        "from sklearn.model_selection import HalvingGridSearchCV\n",
        "\n",
        "# ----------------------- Load Data ----------------------- #\n",
        "target_col = 'Label'  # Change this based on your dataset\n",
        "\n",
        "if target_col not in df.columns:\n",
        "    raise ValueError(f\"Target column '{target_col}' not found! Available columns: {df.columns.tolist()}\")\n",
        "\n",
        "# Feature-Target Split\n",
        "X = df.drop(columns=[target_col])\n",
        "y = df[target_col]\n",
        "\n",
        "# Encode target labels\n",
        "label_encoder = LabelEncoder()\n",
        "y = label_encoder.fit_transform(y)\n",
        "\n",
        "# Train-Test Split (80-20)\n",
        "X_train, X_test, y_train, y_test = train_test_split(\n",
        "    X, y, test_size=0.2, random_state=42, stratify=y\n",
        ")\n",
        "\n",
        "# ---------------------- Faster Alternative to SMOTE ---------------------- #\n",
        "# Get class counts\n",
        "class_counts = Counter(y_train)\n",
        "maj_class = max(class_counts, key=class_counts.get)  # Majority class\n",
        "min_class_size = min(class_counts.values())\n",
        "\n",
        "# Define over-sampling strategy: Make each minority class at least 50% of the majority\n",
        "oversample_strategy = {\n",
        "    cls: int(0.5 * class_counts[maj_class]) for cls in class_counts if class_counts[cls] < class_counts[maj_class]\n",
        "}\n",
        "\n",
        "# Define under-sampling strategy: Reduce the majority class\n",
        "undersample_strategy = {\n",
        "    maj_class: int(0.8 * class_counts[maj_class])  # Keep 80% of majority samples\n",
        "}\n",
        "\n",
        "# Apply Over-Sampling (First step)\n",
        "ros = RandomOverSampler(sampling_strategy=oversample_strategy, random_state=42)\n",
        "X_train, y_train = ros.fit_resample(X_train, y_train)\n",
        "\n",
        "# Apply Under-Sampling (Second step)\n",
        "rus = RandomUnderSampler(sampling_strategy=undersample_strategy, random_state=42)\n",
        "X_train, y_train = rus.fit_resample(X_train, y_train)\n",
        "\n",
        "print(f\"Balanced Data Distribution: {Counter(y_train)}\")\n",
        "\n",
        "# ---------------------------- Train Base Models ---------------------------- #\n",
        "start_fit = time.time()\n",
        "\n",
        "rf = RandomForestClassifier(\n",
        "    n_estimators=50,      # Reduce number of trees\n",
        "    max_depth=10,         # Limit depth\n",
        "    class_weight='balanced',\n",
        "    random_state=42,\n",
        "    n_jobs=-1             # Use all CPU cores\n",
        ")\n",
        "rf.fit(X_train, y_train)\n",
        "xgb = XGBClassifier(\n",
        "    n_estimators=50,\n",
        "    max_depth=8,\n",
        "    learning_rate=0.1,\n",
        "    tree_method='hist',\n",
        "    use_label_encoder=False,\n",
        "    eval_metric='mlogloss',\n",
        "    random_state=42\n",
        ")\n",
        "xgb.fit(X_train, y_train)\n",
        "end_fit = time.time()\n",
        "print(f\"Base Model Training Time: {end_fit - start_fit:.2f} seconds\")\n",
        "\n",
        "# ---------------------------- Hypergraph-Based Ensemble ---------------------------- #\n",
        "def hypergraph_ensemble(preds_rf, preds_xgb, weights=(0.6, 0.4)):\n",
        "    \"\"\"Weighted voting ensemble for final prediction.\"\"\"\n",
        "    final_preds = []\n",
        "    for i in range(len(preds_rf)):\n",
        "        pred_votes = {\n",
        "            preds_rf[i]: weights[0],\n",
        "            preds_xgb[i]: weights[1],\n",
        "        }\n",
        "        final_preds.append(max(pred_votes, key=pred_votes.get))\n",
        "    return np.array(final_preds)\n",
        "\n",
        "# Predictions\n",
        "y_pred_rf = rf.predict(X_test)\n",
        "y_pred_xgb = xgb.predict(X_test)\n",
        "y_pred_ensemble = hypergraph_ensemble(y_pred_rf, y_pred_xgb)\n",
        "\n",
        "# ---------------------------- Evaluation ---------------------------- #\n",
        "print(\"\\n--- Classification Report for Hypergraph Ensemble ---\")\n",
        "print(classification_report(y_test, y_pred_ensemble, digits=4))\n",
        "ConfusionMatrixDisplay.from_predictions(y_test, y_pred_ensemble)\n",
        "\n",
        "# ---------------------------- Hyperparameter Tuning ---------------------------- #\n",
        "params_rf = {'max_depth': [10, 15, 20], 'n_estimators': [50, 100, 150]}\n",
        "params_xgb = {'max_depth': [6, 10, 15], 'n_estimators': [50, 100, 150], 'learning_rate': [0.05, 0.1, 0.2]}\n",
        "\n",
        "rf_grid = HalvingGridSearchCV(rf, params_rf, cv=3, scoring='f1_macro', n_jobs=-1, verbose=1)\n",
        "xgb_grid = HalvingGridSearchCV(xgb, params_xgb, cv=3, scoring='f1_macro', n_jobs=-1, verbose=1)\n",
        "\n",
        "start_fit = time.time()\n",
        "rf_grid.fit(X_train, y_train)\n",
        "xgb_grid.fit(X_train, y_train)\n",
        "end_fit = time.time()\n",
        "\n",
        "print(f\"Hyperparameter Tuning Time: {end_fit - start_fit:.2f} seconds\")\n",
        "print(\"Best RF Params:\", rf_grid.best_params_)\n",
        "print(\"Best XGB Params:\", xgb_grid.best_params_)\n",
        "\n",
        "# ---------------------------- Train Final Models ---------------------------- #\n",
        "rf_best = rf_grid.best_estimator_\n",
        "xgb_best = xgb_grid.best_estimator_\n",
        "rf_best.fit(X_train, y_train)\n",
        "xgb_best.fit(X_train, y_train)\n",
        "\n",
        "# Final Predictions\n",
        "y_pred_rf_best = rf_best.predict(X_test)\n",
        "y_pred_xgb_best = xgb_best.predict(X_test)\n",
        "y_pred_ensemble_best = hypergraph_ensemble(y_pred_rf_best, y_pred_xgb_best)\n",
        "\n",
        "# ---------------------------- Final Evaluation ---------------------------- #\n",
        "print(\"\\n--- Final Classification Report for Optimized Hypergraph Ensemble ---\")\n",
        "print(classification_report(y_test, y_pred_ensemble_best, digits=4))\n",
        "ConfusionMatrixDisplay.from_predictions(y_test, y_pred_ensemble_best)"
      ],
      "metadata": {
        "colab": {
          "base_uri": "https://localhost:8080/"
        },
        "id": "vvE8T98TzYCh",
        "outputId": "226b0a3c-602a-41dd-9b57-afff47549947"
      },
      "execution_count": null,
      "outputs": [
        {
          "output_type": "stream",
          "name": "stdout",
          "text": [
            "Balanced Data Distribution: Counter({0: 1340836, 1: 838022, 2: 838022, 3: 838022, 4: 838022, 5: 838022, 6: 838022, 7: 838022, 8: 838022, 9: 838022, 10: 838022, 11: 838022, 12: 838022, 13: 838022, 14: 838022})\n"
          ]
        },
        {
          "output_type": "stream",
          "name": "stderr",
          "text": [
            "/usr/local/lib/python3.11/dist-packages/xgboost/core.py:158: UserWarning: [08:20:35] WARNING: /workspace/src/learner.cc:740: \n",
            "Parameters: { \"use_label_encoder\" } are not used.\n",
            "\n",
            "  warnings.warn(smsg, UserWarning)\n"
          ]
        },
        {
          "output_type": "stream",
          "name": "stdout",
          "text": [
            "Base Model Training Time: 904.67 seconds\n",
            "\n",
            "--- Classification Report for Hypergraph Ensemble ---\n",
            "              precision    recall  f1-score   support\n",
            "\n",
            "           0     0.9991    0.9510    0.9744    419012\n",
            "           1     0.0287    1.0000    0.0558       390\n",
            "           2     0.9974    0.9986    0.9980     25603\n",
            "           3     0.8379    0.9878    0.9067      2057\n",
            "           4     0.9868    0.9879    0.9874     34569\n",
            "           5     0.7362    0.9952    0.8463      1046\n",
            "           6     0.8441    0.9851    0.9092      1077\n",
            "           7     0.9992    0.9992    0.9992      1186\n",
            "           8     1.0000    0.5000    0.6667         2\n",
            "           9     0.0206    1.0000    0.0403         7\n",
            "          10     0.9864    0.9985    0.9924     18139\n",
            "          11     0.8834    1.0000    0.9381       644\n",
            "          12     0.1341    0.4490    0.2066       294\n",
            "          13     0.0014    1.0000    0.0027         4\n",
            "          14     0.0585    0.8308    0.1093       130\n",
            "\n",
            "    accuracy                         0.9578    504160\n",
            "   macro avg     0.6342    0.9122    0.6422    504160\n",
            "weighted avg     0.9945    0.9578    0.9751    504160\n",
            "\n",
            "n_iterations: 3\n",
            "n_required_iterations: 3\n",
            "n_possible_iterations: 3\n",
            "min_resources_: 1452571\n",
            "max_resources_: 13073144\n",
            "aggressive_elimination: False\n",
            "factor: 3\n",
            "----------\n",
            "iter: 0\n",
            "n_candidates: 9\n",
            "n_resources: 1452571\n",
            "Fitting 3 folds for each of 9 candidates, totalling 27 fits\n"
          ]
        },
        {
          "output_type": "stream",
          "name": "stderr",
          "text": [
            "/usr/local/lib/python3.11/dist-packages/joblib/externals/loky/process_executor.py:752: UserWarning: A worker stopped while some jobs were given to the executor. This can be caused by a too short worker timeout or by a memory leak.\n",
            "  warnings.warn(\n"
          ]
        },
        {
          "output_type": "stream",
          "name": "stdout",
          "text": [
            "----------\n",
            "iter: 1\n",
            "n_candidates: 3\n",
            "n_resources: 4357713\n",
            "Fitting 3 folds for each of 3 candidates, totalling 9 fits\n"
          ]
        }
      ]
    },
    {
      "cell_type": "code",
      "execution_count": null,
      "metadata": {
        "id": "3Ho3I7xt3ENw"
      },
      "outputs": [],
      "source": [
        "from sklearn.model_selection import train_test_split\n",
        "\n",
        "X_train, X_test, y_train, y_test = train_test_split(X, y, test_size=0.4, random_state=42)"
      ]
    },
    {
      "cell_type": "code",
      "execution_count": null,
      "metadata": {
        "colab": {
          "base_uri": "https://localhost:8080/",
          "height": 80
        },
        "id": "Bj1ihXmw3KxL",
        "outputId": "21e5f748-3440-4a7a-e9e2-5dee8cb3fc48"
      },
      "outputs": [
        {
          "data": {
            "text/html": [
              "<style>#sk-container-id-1 {\n",
              "  /* Definition of color scheme common for light and dark mode */\n",
              "  --sklearn-color-text: #000;\n",
              "  --sklearn-color-text-muted: #666;\n",
              "  --sklearn-color-line: gray;\n",
              "  /* Definition of color scheme for unfitted estimators */\n",
              "  --sklearn-color-unfitted-level-0: #fff5e6;\n",
              "  --sklearn-color-unfitted-level-1: #f6e4d2;\n",
              "  --sklearn-color-unfitted-level-2: #ffe0b3;\n",
              "  --sklearn-color-unfitted-level-3: chocolate;\n",
              "  /* Definition of color scheme for fitted estimators */\n",
              "  --sklearn-color-fitted-level-0: #f0f8ff;\n",
              "  --sklearn-color-fitted-level-1: #d4ebff;\n",
              "  --sklearn-color-fitted-level-2: #b3dbfd;\n",
              "  --sklearn-color-fitted-level-3: cornflowerblue;\n",
              "\n",
              "  /* Specific color for light theme */\n",
              "  --sklearn-color-text-on-default-background: var(--sg-text-color, var(--theme-code-foreground, var(--jp-content-font-color1, black)));\n",
              "  --sklearn-color-background: var(--sg-background-color, var(--theme-background, var(--jp-layout-color0, white)));\n",
              "  --sklearn-color-border-box: var(--sg-text-color, var(--theme-code-foreground, var(--jp-content-font-color1, black)));\n",
              "  --sklearn-color-icon: #696969;\n",
              "\n",
              "  @media (prefers-color-scheme: dark) {\n",
              "    /* Redefinition of color scheme for dark theme */\n",
              "    --sklearn-color-text-on-default-background: var(--sg-text-color, var(--theme-code-foreground, var(--jp-content-font-color1, white)));\n",
              "    --sklearn-color-background: var(--sg-background-color, var(--theme-background, var(--jp-layout-color0, #111)));\n",
              "    --sklearn-color-border-box: var(--sg-text-color, var(--theme-code-foreground, var(--jp-content-font-color1, white)));\n",
              "    --sklearn-color-icon: #878787;\n",
              "  }\n",
              "}\n",
              "\n",
              "#sk-container-id-1 {\n",
              "  color: var(--sklearn-color-text);\n",
              "}\n",
              "\n",
              "#sk-container-id-1 pre {\n",
              "  padding: 0;\n",
              "}\n",
              "\n",
              "#sk-container-id-1 input.sk-hidden--visually {\n",
              "  border: 0;\n",
              "  clip: rect(1px 1px 1px 1px);\n",
              "  clip: rect(1px, 1px, 1px, 1px);\n",
              "  height: 1px;\n",
              "  margin: -1px;\n",
              "  overflow: hidden;\n",
              "  padding: 0;\n",
              "  position: absolute;\n",
              "  width: 1px;\n",
              "}\n",
              "\n",
              "#sk-container-id-1 div.sk-dashed-wrapped {\n",
              "  border: 1px dashed var(--sklearn-color-line);\n",
              "  margin: 0 0.4em 0.5em 0.4em;\n",
              "  box-sizing: border-box;\n",
              "  padding-bottom: 0.4em;\n",
              "  background-color: var(--sklearn-color-background);\n",
              "}\n",
              "\n",
              "#sk-container-id-1 div.sk-container {\n",
              "  /* jupyter's `normalize.less` sets `[hidden] { display: none; }`\n",
              "     but bootstrap.min.css set `[hidden] { display: none !important; }`\n",
              "     so we also need the `!important` here to be able to override the\n",
              "     default hidden behavior on the sphinx rendered scikit-learn.org.\n",
              "     See: https://github.com/scikit-learn/scikit-learn/issues/21755 */\n",
              "  display: inline-block !important;\n",
              "  position: relative;\n",
              "}\n",
              "\n",
              "#sk-container-id-1 div.sk-text-repr-fallback {\n",
              "  display: none;\n",
              "}\n",
              "\n",
              "div.sk-parallel-item,\n",
              "div.sk-serial,\n",
              "div.sk-item {\n",
              "  /* draw centered vertical line to link estimators */\n",
              "  background-image: linear-gradient(var(--sklearn-color-text-on-default-background), var(--sklearn-color-text-on-default-background));\n",
              "  background-size: 2px 100%;\n",
              "  background-repeat: no-repeat;\n",
              "  background-position: center center;\n",
              "}\n",
              "\n",
              "/* Parallel-specific style estimator block */\n",
              "\n",
              "#sk-container-id-1 div.sk-parallel-item::after {\n",
              "  content: \"\";\n",
              "  width: 100%;\n",
              "  border-bottom: 2px solid var(--sklearn-color-text-on-default-background);\n",
              "  flex-grow: 1;\n",
              "}\n",
              "\n",
              "#sk-container-id-1 div.sk-parallel {\n",
              "  display: flex;\n",
              "  align-items: stretch;\n",
              "  justify-content: center;\n",
              "  background-color: var(--sklearn-color-background);\n",
              "  position: relative;\n",
              "}\n",
              "\n",
              "#sk-container-id-1 div.sk-parallel-item {\n",
              "  display: flex;\n",
              "  flex-direction: column;\n",
              "}\n",
              "\n",
              "#sk-container-id-1 div.sk-parallel-item:first-child::after {\n",
              "  align-self: flex-end;\n",
              "  width: 50%;\n",
              "}\n",
              "\n",
              "#sk-container-id-1 div.sk-parallel-item:last-child::after {\n",
              "  align-self: flex-start;\n",
              "  width: 50%;\n",
              "}\n",
              "\n",
              "#sk-container-id-1 div.sk-parallel-item:only-child::after {\n",
              "  width: 0;\n",
              "}\n",
              "\n",
              "/* Serial-specific style estimator block */\n",
              "\n",
              "#sk-container-id-1 div.sk-serial {\n",
              "  display: flex;\n",
              "  flex-direction: column;\n",
              "  align-items: center;\n",
              "  background-color: var(--sklearn-color-background);\n",
              "  padding-right: 1em;\n",
              "  padding-left: 1em;\n",
              "}\n",
              "\n",
              "\n",
              "/* Toggleable style: style used for estimator/Pipeline/ColumnTransformer box that is\n",
              "clickable and can be expanded/collapsed.\n",
              "- Pipeline and ColumnTransformer use this feature and define the default style\n",
              "- Estimators will overwrite some part of the style using the `sk-estimator` class\n",
              "*/\n",
              "\n",
              "/* Pipeline and ColumnTransformer style (default) */\n",
              "\n",
              "#sk-container-id-1 div.sk-toggleable {\n",
              "  /* Default theme specific background. It is overwritten whether we have a\n",
              "  specific estimator or a Pipeline/ColumnTransformer */\n",
              "  background-color: var(--sklearn-color-background);\n",
              "}\n",
              "\n",
              "/* Toggleable label */\n",
              "#sk-container-id-1 label.sk-toggleable__label {\n",
              "  cursor: pointer;\n",
              "  display: flex;\n",
              "  width: 100%;\n",
              "  margin-bottom: 0;\n",
              "  padding: 0.5em;\n",
              "  box-sizing: border-box;\n",
              "  text-align: center;\n",
              "  align-items: start;\n",
              "  justify-content: space-between;\n",
              "  gap: 0.5em;\n",
              "}\n",
              "\n",
              "#sk-container-id-1 label.sk-toggleable__label .caption {\n",
              "  font-size: 0.6rem;\n",
              "  font-weight: lighter;\n",
              "  color: var(--sklearn-color-text-muted);\n",
              "}\n",
              "\n",
              "#sk-container-id-1 label.sk-toggleable__label-arrow:before {\n",
              "  /* Arrow on the left of the label */\n",
              "  content: \"▸\";\n",
              "  float: left;\n",
              "  margin-right: 0.25em;\n",
              "  color: var(--sklearn-color-icon);\n",
              "}\n",
              "\n",
              "#sk-container-id-1 label.sk-toggleable__label-arrow:hover:before {\n",
              "  color: var(--sklearn-color-text);\n",
              "}\n",
              "\n",
              "/* Toggleable content - dropdown */\n",
              "\n",
              "#sk-container-id-1 div.sk-toggleable__content {\n",
              "  max-height: 0;\n",
              "  max-width: 0;\n",
              "  overflow: hidden;\n",
              "  text-align: left;\n",
              "  /* unfitted */\n",
              "  background-color: var(--sklearn-color-unfitted-level-0);\n",
              "}\n",
              "\n",
              "#sk-container-id-1 div.sk-toggleable__content.fitted {\n",
              "  /* fitted */\n",
              "  background-color: var(--sklearn-color-fitted-level-0);\n",
              "}\n",
              "\n",
              "#sk-container-id-1 div.sk-toggleable__content pre {\n",
              "  margin: 0.2em;\n",
              "  border-radius: 0.25em;\n",
              "  color: var(--sklearn-color-text);\n",
              "  /* unfitted */\n",
              "  background-color: var(--sklearn-color-unfitted-level-0);\n",
              "}\n",
              "\n",
              "#sk-container-id-1 div.sk-toggleable__content.fitted pre {\n",
              "  /* unfitted */\n",
              "  background-color: var(--sklearn-color-fitted-level-0);\n",
              "}\n",
              "\n",
              "#sk-container-id-1 input.sk-toggleable__control:checked~div.sk-toggleable__content {\n",
              "  /* Expand drop-down */\n",
              "  max-height: 200px;\n",
              "  max-width: 100%;\n",
              "  overflow: auto;\n",
              "}\n",
              "\n",
              "#sk-container-id-1 input.sk-toggleable__control:checked~label.sk-toggleable__label-arrow:before {\n",
              "  content: \"▾\";\n",
              "}\n",
              "\n",
              "/* Pipeline/ColumnTransformer-specific style */\n",
              "\n",
              "#sk-container-id-1 div.sk-label input.sk-toggleable__control:checked~label.sk-toggleable__label {\n",
              "  color: var(--sklearn-color-text);\n",
              "  background-color: var(--sklearn-color-unfitted-level-2);\n",
              "}\n",
              "\n",
              "#sk-container-id-1 div.sk-label.fitted input.sk-toggleable__control:checked~label.sk-toggleable__label {\n",
              "  background-color: var(--sklearn-color-fitted-level-2);\n",
              "}\n",
              "\n",
              "/* Estimator-specific style */\n",
              "\n",
              "/* Colorize estimator box */\n",
              "#sk-container-id-1 div.sk-estimator input.sk-toggleable__control:checked~label.sk-toggleable__label {\n",
              "  /* unfitted */\n",
              "  background-color: var(--sklearn-color-unfitted-level-2);\n",
              "}\n",
              "\n",
              "#sk-container-id-1 div.sk-estimator.fitted input.sk-toggleable__control:checked~label.sk-toggleable__label {\n",
              "  /* fitted */\n",
              "  background-color: var(--sklearn-color-fitted-level-2);\n",
              "}\n",
              "\n",
              "#sk-container-id-1 div.sk-label label.sk-toggleable__label,\n",
              "#sk-container-id-1 div.sk-label label {\n",
              "  /* The background is the default theme color */\n",
              "  color: var(--sklearn-color-text-on-default-background);\n",
              "}\n",
              "\n",
              "/* On hover, darken the color of the background */\n",
              "#sk-container-id-1 div.sk-label:hover label.sk-toggleable__label {\n",
              "  color: var(--sklearn-color-text);\n",
              "  background-color: var(--sklearn-color-unfitted-level-2);\n",
              "}\n",
              "\n",
              "/* Label box, darken color on hover, fitted */\n",
              "#sk-container-id-1 div.sk-label.fitted:hover label.sk-toggleable__label.fitted {\n",
              "  color: var(--sklearn-color-text);\n",
              "  background-color: var(--sklearn-color-fitted-level-2);\n",
              "}\n",
              "\n",
              "/* Estimator label */\n",
              "\n",
              "#sk-container-id-1 div.sk-label label {\n",
              "  font-family: monospace;\n",
              "  font-weight: bold;\n",
              "  display: inline-block;\n",
              "  line-height: 1.2em;\n",
              "}\n",
              "\n",
              "#sk-container-id-1 div.sk-label-container {\n",
              "  text-align: center;\n",
              "}\n",
              "\n",
              "/* Estimator-specific */\n",
              "#sk-container-id-1 div.sk-estimator {\n",
              "  font-family: monospace;\n",
              "  border: 1px dotted var(--sklearn-color-border-box);\n",
              "  border-radius: 0.25em;\n",
              "  box-sizing: border-box;\n",
              "  margin-bottom: 0.5em;\n",
              "  /* unfitted */\n",
              "  background-color: var(--sklearn-color-unfitted-level-0);\n",
              "}\n",
              "\n",
              "#sk-container-id-1 div.sk-estimator.fitted {\n",
              "  /* fitted */\n",
              "  background-color: var(--sklearn-color-fitted-level-0);\n",
              "}\n",
              "\n",
              "/* on hover */\n",
              "#sk-container-id-1 div.sk-estimator:hover {\n",
              "  /* unfitted */\n",
              "  background-color: var(--sklearn-color-unfitted-level-2);\n",
              "}\n",
              "\n",
              "#sk-container-id-1 div.sk-estimator.fitted:hover {\n",
              "  /* fitted */\n",
              "  background-color: var(--sklearn-color-fitted-level-2);\n",
              "}\n",
              "\n",
              "/* Specification for estimator info (e.g. \"i\" and \"?\") */\n",
              "\n",
              "/* Common style for \"i\" and \"?\" */\n",
              "\n",
              ".sk-estimator-doc-link,\n",
              "a:link.sk-estimator-doc-link,\n",
              "a:visited.sk-estimator-doc-link {\n",
              "  float: right;\n",
              "  font-size: smaller;\n",
              "  line-height: 1em;\n",
              "  font-family: monospace;\n",
              "  background-color: var(--sklearn-color-background);\n",
              "  border-radius: 1em;\n",
              "  height: 1em;\n",
              "  width: 1em;\n",
              "  text-decoration: none !important;\n",
              "  margin-left: 0.5em;\n",
              "  text-align: center;\n",
              "  /* unfitted */\n",
              "  border: var(--sklearn-color-unfitted-level-1) 1pt solid;\n",
              "  color: var(--sklearn-color-unfitted-level-1);\n",
              "}\n",
              "\n",
              ".sk-estimator-doc-link.fitted,\n",
              "a:link.sk-estimator-doc-link.fitted,\n",
              "a:visited.sk-estimator-doc-link.fitted {\n",
              "  /* fitted */\n",
              "  border: var(--sklearn-color-fitted-level-1) 1pt solid;\n",
              "  color: var(--sklearn-color-fitted-level-1);\n",
              "}\n",
              "\n",
              "/* On hover */\n",
              "div.sk-estimator:hover .sk-estimator-doc-link:hover,\n",
              ".sk-estimator-doc-link:hover,\n",
              "div.sk-label-container:hover .sk-estimator-doc-link:hover,\n",
              ".sk-estimator-doc-link:hover {\n",
              "  /* unfitted */\n",
              "  background-color: var(--sklearn-color-unfitted-level-3);\n",
              "  color: var(--sklearn-color-background);\n",
              "  text-decoration: none;\n",
              "}\n",
              "\n",
              "div.sk-estimator.fitted:hover .sk-estimator-doc-link.fitted:hover,\n",
              ".sk-estimator-doc-link.fitted:hover,\n",
              "div.sk-label-container:hover .sk-estimator-doc-link.fitted:hover,\n",
              ".sk-estimator-doc-link.fitted:hover {\n",
              "  /* fitted */\n",
              "  background-color: var(--sklearn-color-fitted-level-3);\n",
              "  color: var(--sklearn-color-background);\n",
              "  text-decoration: none;\n",
              "}\n",
              "\n",
              "/* Span, style for the box shown on hovering the info icon */\n",
              ".sk-estimator-doc-link span {\n",
              "  display: none;\n",
              "  z-index: 9999;\n",
              "  position: relative;\n",
              "  font-weight: normal;\n",
              "  right: .2ex;\n",
              "  padding: .5ex;\n",
              "  margin: .5ex;\n",
              "  width: min-content;\n",
              "  min-width: 20ex;\n",
              "  max-width: 50ex;\n",
              "  color: var(--sklearn-color-text);\n",
              "  box-shadow: 2pt 2pt 4pt #999;\n",
              "  /* unfitted */\n",
              "  background: var(--sklearn-color-unfitted-level-0);\n",
              "  border: .5pt solid var(--sklearn-color-unfitted-level-3);\n",
              "}\n",
              "\n",
              ".sk-estimator-doc-link.fitted span {\n",
              "  /* fitted */\n",
              "  background: var(--sklearn-color-fitted-level-0);\n",
              "  border: var(--sklearn-color-fitted-level-3);\n",
              "}\n",
              "\n",
              ".sk-estimator-doc-link:hover span {\n",
              "  display: block;\n",
              "}\n",
              "\n",
              "/* \"?\"-specific style due to the `<a>` HTML tag */\n",
              "\n",
              "#sk-container-id-1 a.estimator_doc_link {\n",
              "  float: right;\n",
              "  font-size: 1rem;\n",
              "  line-height: 1em;\n",
              "  font-family: monospace;\n",
              "  background-color: var(--sklearn-color-background);\n",
              "  border-radius: 1rem;\n",
              "  height: 1rem;\n",
              "  width: 1rem;\n",
              "  text-decoration: none;\n",
              "  /* unfitted */\n",
              "  color: var(--sklearn-color-unfitted-level-1);\n",
              "  border: var(--sklearn-color-unfitted-level-1) 1pt solid;\n",
              "}\n",
              "\n",
              "#sk-container-id-1 a.estimator_doc_link.fitted {\n",
              "  /* fitted */\n",
              "  border: var(--sklearn-color-fitted-level-1) 1pt solid;\n",
              "  color: var(--sklearn-color-fitted-level-1);\n",
              "}\n",
              "\n",
              "/* On hover */\n",
              "#sk-container-id-1 a.estimator_doc_link:hover {\n",
              "  /* unfitted */\n",
              "  background-color: var(--sklearn-color-unfitted-level-3);\n",
              "  color: var(--sklearn-color-background);\n",
              "  text-decoration: none;\n",
              "}\n",
              "\n",
              "#sk-container-id-1 a.estimator_doc_link.fitted:hover {\n",
              "  /* fitted */\n",
              "  background-color: var(--sklearn-color-fitted-level-3);\n",
              "}\n",
              "</style><div id=\"sk-container-id-1\" class=\"sk-top-container\"><div class=\"sk-text-repr-fallback\"><pre>RandomForestClassifier(random_state=42)</pre><b>In a Jupyter environment, please rerun this cell to show the HTML representation or trust the notebook. <br />On GitHub, the HTML representation is unable to render, please try loading this page with nbviewer.org.</b></div><div class=\"sk-container\" hidden><div class=\"sk-item\"><div class=\"sk-estimator fitted sk-toggleable\"><input class=\"sk-toggleable__control sk-hidden--visually\" id=\"sk-estimator-id-1\" type=\"checkbox\" checked><label for=\"sk-estimator-id-1\" class=\"sk-toggleable__label fitted sk-toggleable__label-arrow\"><div><div>RandomForestClassifier</div></div><div><a class=\"sk-estimator-doc-link fitted\" rel=\"noreferrer\" target=\"_blank\" href=\"https://scikit-learn.org/1.6/modules/generated/sklearn.ensemble.RandomForestClassifier.html\">?<span>Documentation for RandomForestClassifier</span></a><span class=\"sk-estimator-doc-link fitted\">i<span>Fitted</span></span></div></label><div class=\"sk-toggleable__content fitted\"><pre>RandomForestClassifier(random_state=42)</pre></div> </div></div></div></div>"
            ],
            "text/plain": [
              "RandomForestClassifier(random_state=42)"
            ]
          },
          "execution_count": 13,
          "metadata": {},
          "output_type": "execute_result"
        }
      ],
      "source": [
        "from sklearn.ensemble import RandomForestClassifier\n",
        "from sklearn.pipeline import Pipeline\n",
        "\n",
        "rf = RandomForestClassifier(n_estimators=100, random_state=42)\n",
        "rf.fit(X_train, y_train)"
      ]
    },
    {
      "cell_type": "code",
      "execution_count": null,
      "metadata": {
        "id": "u0nMXh1m6HXz"
      },
      "outputs": [],
      "source": [
        "y_pred = rf.predict(X_test)"
      ]
    },
    {
      "cell_type": "code",
      "execution_count": null,
      "metadata": {
        "colab": {
          "base_uri": "https://localhost:8080/"
        },
        "id": "E0Q3pWbl2doh",
        "outputId": "dd0be67b-b431-466e-b5a5-799f912a08fa"
      },
      "outputs": [
        {
          "name": "stdout",
          "output_type": "stream",
          "text": [
            "                precision    recall  f1-score   support\n",
            "\n",
            "        BENIGN     0.9990    0.9993    0.9991    837730\n",
            "        BOTNET     0.8528    0.7705    0.8096       767\n",
            "   BRUTE_FORCE     1.0000    0.9981    0.9991      3733\n",
            "           DOS     0.9990    0.9979    0.9985    128761\n",
            "RECONNAISSANCE     0.9893    0.9886    0.9890     36467\n",
            "    WEB_ATTACK     0.9917    0.9710    0.9812       862\n",
            "\n",
            "      accuracy                         0.9985   1008320\n",
            "     macro avg     0.9720    0.9543    0.9627   1008320\n",
            "  weighted avg     0.9985    0.9985    0.9985   1008320\n",
            "\n"
          ]
        }
      ],
      "source": [
        "from sklearn.metrics import classification_report\n",
        "\n",
        "print(classification_report(y_test, y_pred, digits=4))\n",
        "rf_report = classification_report(y_test, y_pred, digits=4, output_dict=True)"
      ]
    },
    {
      "cell_type": "code",
      "execution_count": null,
      "metadata": {
        "colab": {
          "base_uri": "https://localhost:8080/",
          "height": 449
        },
        "id": "1c8ECTcV2myc",
        "outputId": "eba7b762-200a-4ad0-8cad-8c1cf1848539"
      },
      "outputs": [
        {
          "data": {
            "image/png": "[encoded data removed]",
            "text/plain": [
              "<Figure size 640x480 with 2 Axes>"
            ]
          },
          "metadata": {},
          "output_type": "display_data"
        }
      ],
      "source": [
        "from sklearn.metrics import ConfusionMatrixDisplay\n",
        "\n",
        "rf_confm = ConfusionMatrixDisplay.from_predictions(y_test, y_pred)"
      ]
    },
    {
      "cell_type": "code",
      "execution_count": null,
      "metadata": {
        "colab": {
          "base_uri": "https://localhost:8080/"
        },
        "id": "oY9ZwGq-QWSM",
        "outputId": "df6dd602-a8cf-4999-c73f-9db607f70498"
      },
      "outputs": [
        {
          "output_type": "stream",
          "name": "stdout",
          "text": [
            "Collecting xgboost\n",
            "  Downloading xgboost-2.1.4-py3-none-manylinux_2_28_x86_64.whl.metadata (2.1 kB)\n",
            "Requirement already satisfied: numpy in /usr/local/lib/python3.11/dist-packages (from xgboost) (1.26.4)\n",
            "Collecting nvidia-nccl-cu12 (from xgboost)\n",
            "  Downloading nvidia_nccl_cu12-2.25.1-py3-none-manylinux2014_x86_64.manylinux_2_17_x86_64.whl.metadata (1.8 kB)\n",
            "Requirement already satisfied: scipy in /usr/local/lib/python3.11/dist-packages (from xgboost) (1.13.1)\n",
            "Downloading xgboost-2.1.4-py3-none-manylinux_2_28_x86_64.whl (223.6 MB)\n",
            "\u001b[2K   \u001b[90m━━━━━━━━━━━━━━━━━━━━━━━━━━━━━━━━━━━━━━━━\u001b[0m \u001b[32m223.6/223.6 MB\u001b[0m \u001b[31m4.7 MB/s\u001b[0m eta \u001b[36m0:00:00\u001b[0m\n",
            "\u001b[?25hDownloading nvidia_nccl_cu12-2.25.1-py3-none-manylinux2014_x86_64.manylinux_2_17_x86_64.whl (201.4 MB)\n",
            "\u001b[2K   \u001b[90m━━━━━━━━━━━━━━━━━━━━━━━━━━━━━━━━━━━━━━━━\u001b[0m \u001b[32m201.4/201.4 MB\u001b[0m \u001b[31m5.2 MB/s\u001b[0m eta \u001b[36m0:00:00\u001b[0m\n",
            "\u001b[?25hInstalling collected packages: nvidia-nccl-cu12, xgboost\n",
            "Successfully installed nvidia-nccl-cu12-2.25.1 xgboost-2.1.4\n"
          ]
        }
      ],
      "source": [
        "pip install xgboost"
      ]
    },
    {
      "cell_type": "code",
      "execution_count": null,
      "metadata": {
        "colab": {
          "base_uri": "https://localhost:8080/"
        },
        "id": "fI-7HR2SQY89",
        "outputId": "73f7303f-c23d-4280-8d8d-36a2b08e32c7"
      },
      "outputs": [
        {
          "output_type": "stream",
          "name": "stdout",
          "text": [
            "Collecting lightgbm\n",
            "  Downloading lightgbm-4.6.0-py3-none-manylinux_2_28_x86_64.whl.metadata (17 kB)\n",
            "Requirement already satisfied: numpy>=1.17.0 in /usr/local/lib/python3.11/dist-packages (from lightgbm) (1.26.4)\n",
            "Requirement already satisfied: scipy in /usr/local/lib/python3.11/dist-packages (from lightgbm) (1.13.1)\n",
            "Downloading lightgbm-4.6.0-py3-none-manylinux_2_28_x86_64.whl (3.6 MB)\n",
            "\u001b[2K   \u001b[90m━━━━━━━━━━━━━━━━━━━━━━━━━━━━━━━━━━━━━━━━\u001b[0m \u001b[32m3.6/3.6 MB\u001b[0m \u001b[31m35.1 MB/s\u001b[0m eta \u001b[36m0:00:00\u001b[0m\n",
            "\u001b[?25hInstalling collected packages: lightgbm\n",
            "Successfully installed lightgbm-4.6.0\n"
          ]
        }
      ],
      "source": [
        "pip install lightgbm"
      ]
    },
    {
      "cell_type": "code",
      "execution_count": null,
      "metadata": {
        "colab": {
          "base_uri": "https://localhost:8080/"
        },
        "id": "WYseseYEQb1T",
        "outputId": "d8a64527-86a0-4edd-df6f-553030d4ae89"
      },
      "outputs": [
        {
          "output_type": "stream",
          "name": "stdout",
          "text": [
            "Collecting imblearn\n",
            "  Downloading imblearn-0.0-py2.py3-none-any.whl.metadata (355 bytes)\n",
            "Collecting imbalanced-learn (from imblearn)\n",
            "  Downloading imbalanced_learn-0.13.0-py3-none-any.whl.metadata (8.8 kB)\n",
            "Requirement already satisfied: numpy<3,>=1.24.3 in /usr/local/lib/python3.11/dist-packages (from imbalanced-learn->imblearn) (1.26.4)\n",
            "Requirement already satisfied: scipy<2,>=1.10.1 in /usr/local/lib/python3.11/dist-packages (from imbalanced-learn->imblearn) (1.13.1)\n",
            "Requirement already satisfied: scikit-learn<2,>=1.3.2 in /usr/local/lib/python3.11/dist-packages (from imbalanced-learn->imblearn) (1.6.1)\n",
            "Collecting sklearn-compat<1,>=0.1 (from imbalanced-learn->imblearn)\n",
            "  Downloading sklearn_compat-0.1.3-py3-none-any.whl.metadata (18 kB)\n",
            "Requirement already satisfied: joblib<2,>=1.1.1 in /usr/local/lib/python3.11/dist-packages (from imbalanced-learn->imblearn) (1.4.2)\n",
            "Requirement already satisfied: threadpoolctl<4,>=2.0.0 in /usr/local/lib/python3.11/dist-packages (from imbalanced-learn->imblearn) (3.5.0)\n",
            "Downloading imblearn-0.0-py2.py3-none-any.whl (1.9 kB)\n",
            "Downloading imbalanced_learn-0.13.0-py3-none-any.whl (238 kB)\n",
            "\u001b[2K   \u001b[90m━━━━━━━━━━━━━━━━━━━━━━━━━━━━━━━━━━━━━━━━\u001b[0m \u001b[32m238.4/238.4 kB\u001b[0m \u001b[31m6.4 MB/s\u001b[0m eta \u001b[36m0:00:00\u001b[0m\n",
            "\u001b[?25hDownloading sklearn_compat-0.1.3-py3-none-any.whl (18 kB)\n",
            "Installing collected packages: sklearn-compat, imbalanced-learn, imblearn\n",
            "Successfully installed imbalanced-learn-0.13.0 imblearn-0.0 sklearn-compat-0.1.3\n"
          ]
        }
      ],
      "source": [
        "pip install imblearn"
      ]
    },
    {
      "cell_type": "code",
      "source": [],
      "metadata": {
        "id": "joVfF8ZaCper"
      },
      "execution_count": null,
      "outputs": []
    }
  ],
  "metadata": {
    "accelerator": "TPU",
    "colab": {
      "gpuType": "V28",
      "provenance": [],
      "include_colab_link": true
    },
    "kernelspec": {
      "display_name": "Python 3",
      "name": "python3"
    },
    "language_info": {
      "name": "python"
    }
  },
  "nbformat": 4,
  "nbformat_minor": 0
}